{
 "cells": [
  {
   "cell_type": "markdown",
   "metadata": {},
   "source": [
    "### Markdown\n",
    "\n",
    "#### This is a markdown test\n",
    "\n",
    "$$x = y + 1$$"
   ]
  },
  {
   "cell_type": "code",
   "execution_count": null,
   "metadata": {},
   "outputs": [],
   "source": [
    "import string"
   ]
  },
  {
   "cell_type": "code",
   "execution_count": null,
   "metadata": {},
   "outputs": [],
   "source": [
    "%%time\n",
    "\n",
    "print(f\"This is {string.ascii_lowercase[0]} test notebook.\", end=\" \")"
   ]
  },
  {
   "cell_type": "code",
   "execution_count": null,
   "metadata": {},
   "outputs": [],
   "source": [
    "def f(\n",
    "    alpha,\n",
    "    beta,\n",
    "    gamma,\n",
    "    delta,\n",
    "    epsilon,\n",
    "    zeta,\n",
    "    eta,\n",
    "    theta,\n",
    "    iota,\n",
    "    kappa,\n",
    "    mu,\n",
    "    nu,\n",
    "    xi,\n",
    "    omicron,\n",
    "):\n",
    "    return 1"
   ]
  }
 ],
 "metadata": {
  "kernelspec": {
   "display_name": "Python 3",
   "language": "python",
   "name": "python3"
  }
 },
 "nbformat": 4,
 "nbformat_minor": 4
}
