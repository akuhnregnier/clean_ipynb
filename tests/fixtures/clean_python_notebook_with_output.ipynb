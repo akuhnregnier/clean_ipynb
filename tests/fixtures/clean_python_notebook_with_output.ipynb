{
 "cells": [
  {
   "cell_type": "markdown",
   "metadata": {},
   "source": [
    "### Markdown\n",
    "\n",
    "#### This is a markdown test\n",
    "\n",
    "$$x = y + 1$$"
   ]
  },
  {
   "cell_type": "code",
   "execution_count": 1,
   "metadata": {},
   "outputs": [],
   "source": [
    "import string"
   ]
  },
  {
   "cell_type": "code",
   "execution_count": 2,
   "metadata": {},
   "outputs": [
    {
     "name": "stdout",
     "output_type": "stream",
     "text": [
      "This is a test notebook. CPU times: user 140 µs, sys: 9 µs, total: 149 µs\n",
      "Wall time: 103 µs\n"
     ]
    }
   ],
   "source": [
    "%%time\n",
    "\n",
    "print(f\"This is {string.ascii_lowercase[0]} test notebook.\", end=\" \")"
   ]
  },
  {
   "cell_type": "code",
   "execution_count": 4,
   "metadata": {},
   "outputs": [],
   "source": [
    "def f(\n",
    "    alpha,\n",
    "    beta,\n",
    "    gamma,\n",
    "    delta,\n",
    "    epsilon,\n",
    "    zeta,\n",
    "    eta,\n",
    "    theta,\n",
    "    iota,\n",
    "    kappa,\n",
    "    mu,\n",
    "    nu,\n",
    "    xi,\n",
    "    omicron,\n",
    "):\n",
    "    return 1"
   ]
  }
 ],
 "metadata": {
  "kernelspec": {
   "display_name": "Python 3",
   "language": "python",
   "name": "python3"
  }
 },
 "nbformat": 4,
 "nbformat_minor": 4
}
